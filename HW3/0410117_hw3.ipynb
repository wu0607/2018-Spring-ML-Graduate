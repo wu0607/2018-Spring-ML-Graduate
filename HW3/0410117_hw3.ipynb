{
 "cells": [
  {
   "cell_type": "markdown",
   "metadata": {},
   "source": [
    "# ML_assignment3   NN error backpropogation\n",
    "### In this problem, you need to build a neural network in order to classify images into three classes. Particularly, instead of calling on any existing functions in MATLAB or Python that do the tricks for you, you need to code on the error backpropagation algorithm by yourself in order to realize the learning process."
   ]
  },
  {
   "cell_type": "code",
   "execution_count": 1,
   "metadata": {},
   "outputs": [],
   "source": [
    "from __future__ import division\n",
    "\n",
    "from PIL import Image\n",
    "import numpy as np\n",
    "from sklearn.decomposition import PCA\n",
    "from sklearn.preprocessing import normalize\n",
    "from sklearn.metrics import accuracy_score\n",
    "\n",
    "import matplotlib.pyplot as plt\n",
    "\n",
    "%matplotlib inline"
   ]
  },
  {
   "cell_type": "markdown",
   "metadata": {},
   "source": [
    "# Load Data,  and use PCA to deduct dimension to 2"
   ]
  },
  {
   "cell_type": "code",
   "execution_count": 2,
   "metadata": {
    "scrolled": true
   },
   "outputs": [
    {
     "name": "stdout",
     "output_type": "stream",
     "text": [
      "pca_all data shape: (3000, 2)\n",
      "target_all: [0 1 1 ..., 1 2 2]\n",
      "target_all shape: (3000,)\n"
     ]
    },
    {
     "data": {
      "text/plain": [
       "array([[ 19.81486755,  10.12537796,   1.        ],\n",
       "       [-13.86012724,  -6.51638822,   1.        ],\n",
       "       [ -7.20265163, -12.81298127,   1.        ],\n",
       "       ..., \n",
       "       [  1.13687568, -13.39132635,   1.        ],\n",
       "       [ -2.24199015,   7.87943923,   1.        ],\n",
       "       [-12.46815591,  16.71987912,   1.        ]])"
      ]
     },
     "execution_count": 2,
     "metadata": {},
     "output_type": "execute_result"
    }
   ],
   "source": [
    "path = './Data_Train/Class'\n",
    "def load_data():\n",
    "    #class_one = np.array([]).reshape(0, 30, 30)\n",
    "    class_all = list()\n",
    "    target_all = list()\n",
    "    for i in range(1, 4):\n",
    "        class_path = path + str(i)\n",
    "        for j in range (1, 1001):\n",
    "            img_path = ''\n",
    "            if(i == 1):\n",
    "                img_path = class_path + '/faceTrain1_' + str(j) +'.bmp'\n",
    "            elif(i == 2):\n",
    "                img_path = class_path + '/faceTrain2_' + str(j) +'.bmp'\n",
    "            elif(i == 3):\n",
    "                img_path = class_path + '/faceTrain3_' + str(j) +'.bmp'\n",
    "                \n",
    "            im = Image.open(img_path)\n",
    "            pixels = list(im.getdata())\n",
    "            class_all.append(pixels)\n",
    "            target_all.append((i-1))\n",
    "            \n",
    "    out = np.asarray(class_all)\n",
    "    target_all = np.asarray(target_all)\n",
    "    #target_all = np.expand_dims(target_all, axis=1)\n",
    "    #print out_1.shape, out_2.shape, out_3.shape\n",
    "    \n",
    "    #Normalize\n",
    "    mean_all =  out.mean(axis = 0)\n",
    "    std_all = out.std(axis = 0)\n",
    "    out = (out - mean_all) / std_all\n",
    "    \n",
    "    #PCA model\n",
    "    pca = PCA(n_components=2)\n",
    "    #Fit the model with X and apply the dimensionality reduction on data\n",
    "    pca_all = pca.fit_transform(out) \n",
    "    \n",
    "    #Shuffle\n",
    "    np.random.seed(0)\n",
    "    indices = np.arange(pca_all.shape[0])\n",
    "    np.random.shuffle(indices)\n",
    "    pca_all = pca_all[indices]\n",
    "    target_all = target_all[indices]\n",
    "    \n",
    "    #Divide 90% for training and 10% for testing\n",
    "    print 'pca_all data shape:', pca_all.shape\n",
    "    print 'target_all:', target_all\n",
    "    print 'target_all shape:', target_all.shape\n",
    "    train_len = int(pca_all.shape[0]*0.9)\n",
    "    return pca_all[:train_len], target_all[:train_len], pca_all[train_len:], target_all[train_len:]\n",
    "            \n",
    "train_data, train_target, test_data, test_target = load_data()\n",
    "\n",
    "#Alaining bias\n",
    "train_temp = np.zeros((train_data.shape[0], train_data.shape[1]+1))\n",
    "train_temp[:, 0:train_data.shape[1]] = train_data\n",
    "train_temp[:, train_data.shape[1]] = 1\n",
    "train_data = train_temp\n",
    "\n",
    "test_temp = np.zeros((test_data.shape[0], test_data.shape[1]+1))\n",
    "test_temp[:, 0:test_data.shape[1]] = test_data\n",
    "test_temp[:, test_data.shape[1]] = 1\n",
    "test_data = test_temp\n",
    "train_data"
   ]
  },
  {
   "cell_type": "markdown",
   "metadata": {},
   "source": [
    "# Data distribution after PCA\n",
    "### We can see that data from three different classes are seperated with each other."
   ]
  },
  {
   "cell_type": "code",
   "execution_count": 3,
   "metadata": {},
   "outputs": [
    {
     "data": {
      "image/png": "[encoded data removed]",
      "text/plain": [
       "<matplotlib.figure.Figure at 0x115a0f70>"
      ]
     },
     "metadata": {},
     "output_type": "display_data"
    }
   ],
   "source": [
    "fig = plt.figure()\n",
    "for i in range(0, 2700):\n",
    "    #print train_target[i][0], ' ', train_data[i]\n",
    "    if(train_target[i] == 0):\n",
    "        plt.scatter(train_data[i][0], train_data[i][1], c='r', label='0')\n",
    "    elif(train_target[i] == 1):\n",
    "        plt.scatter(train_data[i][0], train_data[i][1], c='g', label='1')\n",
    "    else:\n",
    "        plt.scatter(train_data[i][0], train_data[i][1], c='b', label='2')\n",
    "        \n",
    "#plt.legend()\n",
    "plt.show()\n"
   ]
  },
  {
   "cell_type": "code",
   "execution_count": 4,
   "metadata": {},
   "outputs": [
    {
     "name": "stdout",
     "output_type": "stream",
     "text": [
      "[[  1.           2.71828183   7.3890561 ]\n",
      " [  7.3890561   20.08553692  54.59815003]]\n",
      "[ 11.10733793  82.07274306]\n",
      "[[ 11.10733793]\n",
      " [ 82.07274306]]\n"
     ]
    }
   ],
   "source": [
    "x = [[0,1,2], [2,3,4]]\n",
    "print np.exp(x)\n",
    "print np.sum(np.exp(x), axis = 1)\n",
    "print np.sum(np.exp(x), axis = 1, keepdims=True)"
   ]
  },
  {
   "cell_type": "markdown",
   "metadata": {},
   "source": [
    "# Build two layer Neural Network"
   ]
  },
  {
   "cell_type": "code",
   "execution_count": 5,
   "metadata": {},
   "outputs": [],
   "source": [
    "class NN_two_layer():\n",
    "    def __init__(self, inputSize, hiddenSize, outputSize):\n",
    "        self.w1 = np.random.rand(inputSize, hiddenSize)\n",
    "        self.w2 = np.random.rand(hiddenSize, outputSize)\n",
    "        \n",
    "    def fully_connected(self, x, weight):\n",
    "        return np.dot(x, weight)\n",
    "    \n",
    "    def sigmoid(self, x):\n",
    "        return 1. / (1. + np.exp(-x))  \n",
    "    \n",
    "    def sigmoid_Prime(self, x):\n",
    "        return x * (1.- x)\n",
    "    \n",
    "    def softmax(self, x):\n",
    "        exp_x = np.exp(x)\n",
    "        sum_exp_x = np.sum(exp_x, axis = 1, keepdims = True)\n",
    "        return exp_x / sum_exp_x\n",
    "    \n",
    "    def cross_entropy(self, prediction, target):\n",
    "        #loss = -tklog(pk)\n",
    "        loss = 0\n",
    "        num_data = prediction.shape[0]\n",
    "        for i in range(0, num_data):\n",
    "            loss += -1 * np.log(prediction[i][target[i]])\n",
    "        return loss\n",
    "    \n",
    "    def cross_entropy_Prime(self, prediction, target):\n",
    "        num_data = prediction.shape[0]\n",
    "        grad = prediction\n",
    "        grad[range(num_data), target] -= 1 # One hot\n",
    "        return grad\n",
    "                \n",
    "    def forward(self, x):\n",
    "        self.h1 = self.fully_connected(x, self.w1)\n",
    "        self.a1 = self.sigmoid(self.h1)\n",
    "        self.h2 = self.fully_connected(self.a1, self.w2)\n",
    "        self.output = self.softmax(self.h2)\n",
    "        return self.output\n",
    "    \n",
    "    def backward(self, x, output, target):\n",
    "        learning_rate = 1e-3\n",
    "        \n",
    "        delta2 = self.cross_entropy_Prime(output, target)\n",
    "        dw2 = (self.a1.T).dot(delta2)\n",
    "        delta1 = delta2.dot(self.w2.T) * (self.sigmoid_Prime(self.a1))\n",
    "        dw1 = np.dot(x.T, delta1)\n",
    "        \n",
    "        self.w1 -= learning_rate * dw1\n",
    "        self.w2 -= learning_rate * dw2\n",
    "        \n",
    "    def train(self, train_data, train_target):\n",
    "        output = self.forward(train_data)\n",
    "        self.backward(train_data, output, train_target)\n",
    "    \n",
    "    def predict(self, x):\n",
    "        output = self.forward(x)\n",
    "        prediction = np.argmax(output, axis = 1)\n",
    "        prediction = np.expand_dims(prediction, axis=1)\n",
    "        return prediction\n",
    "    \n",
    "    \n",
    "    "
   ]
  },
  {
   "cell_type": "markdown",
   "metadata": {},
   "source": [
    "# Train the Model with 3000 epochs"
   ]
  },
  {
   "cell_type": "code",
   "execution_count": 6,
   "metadata": {},
   "outputs": [
    {
     "name": "stdout",
     "output_type": "stream",
     "text": [
      "iteration: 1\n",
      "prediction [[1 1 1 ..., 0 1 1]]\n",
      "loss 3472.85607252\n",
      "train_accuracy: 0.337407407407\n",
      "iteration: 200\n",
      "prediction [[0 1 1 ..., 1 2 2]]\n",
      "loss 138.855278198\n",
      "train_accuracy: 0.987037037037\n",
      "iteration: 400\n",
      "prediction [[0 1 1 ..., 1 2 2]]\n",
      "loss 104.369389341\n",
      "train_accuracy: 0.98962962963\n",
      "iteration: 600\n",
      "prediction [[0 1 1 ..., 1 2 2]]\n",
      "loss 95.1354027903\n",
      "train_accuracy: 0.989259259259\n",
      "iteration: 800\n",
      "prediction [[0 1 1 ..., 1 2 2]]\n",
      "loss 87.0499652541\n",
      "train_accuracy: 0.991111111111\n",
      "iteration: 1000\n",
      "prediction [[0 1 1 ..., 1 2 2]]\n",
      "loss 81.7571517082\n",
      "train_accuracy: 0.991481481481\n",
      "iteration: 1200\n",
      "prediction [[0 1 1 ..., 1 2 2]]\n",
      "loss 78.1345198821\n",
      "train_accuracy: 0.991481481481\n",
      "iteration: 1400\n",
      "prediction [[0 1 1 ..., 1 2 2]]\n",
      "loss 75.5458460702\n",
      "train_accuracy: 0.991481481481\n",
      "iteration: 1600\n",
      "prediction [[0 1 1 ..., 1 2 2]]\n",
      "loss 73.4753488947\n",
      "train_accuracy: 0.991851851852\n",
      "iteration: 1800\n",
      "prediction [[0 1 1 ..., 1 2 2]]\n",
      "loss 71.7310884124\n",
      "train_accuracy: 0.991851851852\n",
      "iteration: 2000\n",
      "prediction [[0 1 1 ..., 1 2 2]]\n",
      "loss 70.2698413231\n",
      "train_accuracy: 0.991481481481\n",
      "iteration: 2200\n",
      "prediction [[0 1 1 ..., 1 2 2]]\n",
      "loss 69.1118391278\n",
      "train_accuracy: 0.991481481481\n",
      "iteration: 2400\n",
      "prediction [[0 1 1 ..., 1 2 2]]\n",
      "loss 68.2547723733\n",
      "train_accuracy: 0.991851851852\n",
      "iteration: 2600\n",
      "prediction [[0 1 1 ..., 1 2 2]]\n",
      "loss 67.4647508348\n",
      "train_accuracy: 0.991851851852\n",
      "iteration: 2800\n",
      "prediction [[0 1 1 ..., 1 2 2]]\n",
      "loss 66.5533363554\n",
      "train_accuracy: 0.992592592593\n"
     ]
    }
   ],
   "source": [
    "model = NN_two_layer(inputSize=3, hiddenSize=5, outputSize=3)\n",
    "\n",
    "train_iteration = 3000\n",
    "for i in range(0, train_iteration):\n",
    "    #model.train(train_data, train_target)\n",
    "    output = model.forward(train_data)\n",
    "    \n",
    "    prediction = model.predict(train_data)\n",
    "    loss = model.cross_entropy(output, train_target)\n",
    "    train_accuracy = accuracy_score(prediction, train_target)\n",
    "    \n",
    "    model.backward(train_data, output, train_target)\n",
    "    if(i % 200 == 0):\n",
    "        if(i==0):\n",
    "            print 'iteration:', i+1\n",
    "        else:\n",
    "            print 'iteration:', i\n",
    "        print 'prediction', prediction.T\n",
    "        print 'loss', loss\n",
    "        print 'train_accuracy:', train_accuracy"
   ]
  },
  {
   "cell_type": "markdown",
   "metadata": {},
   "source": [
    "# Testing"
   ]
  },
  {
   "cell_type": "code",
   "execution_count": 7,
   "metadata": {},
   "outputs": [
    {
     "name": "stdout",
     "output_type": "stream",
     "text": [
      "('test_accuracy', 0.98666666666666669)\n"
     ]
    }
   ],
   "source": [
    "output = model.forward(test_data)\n",
    "prediction = np.argmax(output, axis=1)\n",
    "test_accuracy = accuracy_score(prediction, test_target)\n",
    "print('test_accuracy', test_accuracy)"
   ]
  },
  {
   "cell_type": "markdown",
   "metadata": {},
   "source": [
    "# Draw Decision Boundary"
   ]
  },
  {
   "cell_type": "code",
   "execution_count": 8,
   "metadata": {},
   "outputs": [
    {
     "name": "stdout",
     "output_type": "stream",
     "text": [
      "(58504, 2)\n"
     ]
    },
    {
     "data": {
      "image/png": "[encoded data removed]",
      "text/plain": [
       "<matplotlib.figure.Figure at 0x115a0910>"
      ]
     },
     "metadata": {},
     "output_type": "display_data"
    }
   ],
   "source": [
    "#Reference: http://scikit-learn.org/stable/auto_examples/linear_model/plot_sgd_iris.html\n",
    "def decision_boundary(model, X):\n",
    "    # create a mesh to plot in\n",
    "    h = 0.2 #resolution\n",
    "    x_min, x_max = X[:, 0].min() - 1, X[:, 0].max() + 1\n",
    "    y_min, y_max = X[:, 1].min() - 1, X[:, 1].max() + 1\n",
    "    xx, yy = np.meshgrid(np.arange(x_min, x_max, h),\n",
    "                     np.arange(y_min, y_max, h))\n",
    "\n",
    "    # Plot the decision boundary. For that, we will assign a color to each\n",
    "    # point in the mesh [x_min, x_max]x[y_min, y_max].\n",
    "    print(np.c_[xx.ravel(), yy.ravel()].shape)\n",
    "    feature = np.c_[xx.ravel(), yy.ravel()]\n",
    "    feature = np.concatenate((feature, np.ones((feature.shape[0], 1))), axis=1)\n",
    "    Z = model.predict(feature)\n",
    "    # Put the result into a color plot\n",
    "    Z = Z.reshape(xx.shape)\n",
    "    cs = plt.contourf(xx, yy, Z, cmap=plt.cm.Set3)\n",
    "    plt.axis('tight')\n",
    "    \n",
    "    #Plot also the training points\n",
    "    prediction = model.predict(X)\n",
    "    for i in range(0, X.shape[0]):\n",
    "        if(prediction[i] == 0):\n",
    "            plt.scatter(train_data[i][0], train_data[i][1], c='r', label='0', s=3)\n",
    "        elif(prediction[i] == 1):\n",
    "            plt.scatter(train_data[i][0], train_data[i][1], c='g', label='1', s=3)\n",
    "        else:\n",
    "            plt.scatter(train_data[i][0], train_data[i][1], c='b', label='2', s=3)\n",
    "\n",
    "decision_boundary(model, train_data)\n"
   ]
  },
  {
   "cell_type": "markdown",
   "metadata": {},
   "source": [
    "# Build three layer Neural Network"
   ]
  },
  {
   "cell_type": "code",
   "execution_count": 15,
   "metadata": {},
   "outputs": [],
   "source": [
    "class NN_three_layer():\n",
    "    def __init__(self, inputSize, h1_Size, h2_Size, outputSize, activation='sigmoid'):\n",
    "        self.w1 = np.random.rand(inputSize, h1_Size)\n",
    "        self.w2 = np.random.rand(h1_Size, h2_Size)\n",
    "        self.w3 = np.random.rand(h2_Size, outputSize)\n",
    "        self.activation = activation\n",
    "        \n",
    "    def fully_connected(self, x, weight):\n",
    "        return np.dot(x, weight)\n",
    "    \n",
    "    def sigmoid(self, x):\n",
    "        return 1. / (1. + np.exp(-x))  \n",
    "    \n",
    "    def sigmoid_Prime(self, x):\n",
    "        return x * (1.- x)\n",
    "    \n",
    "    #######\n",
    "    def relu(self, x):\n",
    "        return np.maximum(0, x)\n",
    "    \n",
    "    def relu_Prime(self, x):\n",
    "        return 1 * (x > 0)\n",
    "    #######\n",
    "    \n",
    "    def softmax(self, x):\n",
    "        exp_x = np.exp(x)\n",
    "        sum_exp_x = np.sum(exp_x, axis = 1, keepdims = True)\n",
    "        return exp_x / sum_exp_x\n",
    "    \n",
    "    def cross_entropy(self, prediction, target):\n",
    "        #loss = -tklog(pk)\n",
    "        loss = 0\n",
    "        num_data = prediction.shape[0]\n",
    "        for i in range(0, num_data):\n",
    "            loss += -1 * np.log(prediction[i][target[i]])\n",
    "        return loss\n",
    "    \n",
    "    def cross_entropy_Prime(self, prediction, target):\n",
    "        num_data = prediction.shape[0]\n",
    "        grad = prediction\n",
    "        grad[range(num_data), target] -= 1 # One hot\n",
    "        return grad\n",
    "                \n",
    "    def forward(self, x):\n",
    "        if(self.activation == 'sigmoid'):\n",
    "            self.h1 = self.fully_connected(x, self.w1)\n",
    "            self.a1 = self.sigmoid(self.h1)\n",
    "            self.h2 = self.fully_connected(self.a1, self.w2)\n",
    "            self.a2 = self.sigmoid(self.h2)\n",
    "            self.h3 = self.fully_connected(self.a2, self.w3)\n",
    "            self.output = self.softmax(self.h3)\n",
    "        elif(self.activation == 'relu'):\n",
    "            self.h1 = self.fully_connected(x, self.w1)\n",
    "            self.a1 = self.relu(self.h1)\n",
    "            self.h2 = self.fully_connected(self.a1, self.w2)\n",
    "            self.a2 = self.relu(self.h2)\n",
    "            self.h3 = self.fully_connected(self.a2, self.w3)\n",
    "            self.output = self.softmax(self.h3)\n",
    "            \n",
    "        return self.output\n",
    "    \n",
    "    def backward(self, x, output, target):\n",
    "        learning_rate = 1e-3\n",
    "        if(self.activation == 'sigmoid'):\n",
    "            delta3 = self.cross_entropy_Prime(output, target)\n",
    "            dw3 = (self.a2.T).dot(delta3)\n",
    "            delta2 = delta3.dot(self.w3.T) * (self.sigmoid_Prime(self.a2))\n",
    "            dw2 = (self.a1.T).dot(delta2)\n",
    "            delta1 = delta2.dot(self.w2.T) * (self.sigmoid_Prime(self.a1))\n",
    "            dw1 = np.dot(x.T, delta1)\n",
    "        elif(self.activation == 'relu'):\n",
    "            learning_rate = 1e-7\n",
    "            delta3 = self.cross_entropy_Prime(output, target)\n",
    "            dw3 = (self.a2.T).dot(delta3)\n",
    "            delta2 = delta3.dot(self.w3.T) * (self.relu_Prime(self.h2))\n",
    "            dw2 = (self.a1.T).dot(delta2)\n",
    "            delta1 = delta2.dot(self.w2.T) * (self.relu_Prime(self.h1))\n",
    "            dw1 = np.dot(x.T, delta1)\n",
    "        \n",
    "        self.w1 -= learning_rate * dw1\n",
    "        self.w2 -= learning_rate * dw2\n",
    "        self.w3 -= learning_rate * dw3\n",
    "        \n",
    "    def train(self, train_data, train_target):\n",
    "        output = self.forward(train_data)\n",
    "        self.backward(train_data, output, train_target)\n",
    "    \n",
    "    def predict(self, x):\n",
    "        output = self.forward(x)\n",
    "        prediction = np.argmax(output, axis = 1)\n",
    "        prediction = np.expand_dims(prediction, axis=1)\n",
    "        return prediction"
   ]
  },
  {
   "cell_type": "markdown",
   "metadata": {},
   "source": [
    "# Train the model with 3000 epochs"
   ]
  },
  {
   "cell_type": "code",
   "execution_count": 16,
   "metadata": {
    "scrolled": true
   },
   "outputs": [
    {
     "name": "stdout",
     "output_type": "stream",
     "text": [
      "('prediction', array([[2, 2, 2, ..., 2, 2, 2]]))\n",
      "('loss', 3144.9398162046177)\n",
      "('train_accuracy:', 0.32962962962962961)\n",
      "('prediction', array([[0, 1, 1, ..., 1, 2, 2]]))\n",
      "('loss', 209.46096381251965)\n",
      "('train_accuracy:', 0.98370370370370375)\n",
      "('prediction', array([[0, 1, 1, ..., 1, 2, 2]]))\n",
      "('loss', 122.1143098946601)\n",
      "('train_accuracy:', 0.98888888888888893)\n",
      "('prediction', array([[0, 1, 1, ..., 1, 2, 2]]))\n",
      "('loss', 90.652466989059732)\n",
      "('train_accuracy:', 0.99222222222222223)\n",
      "('prediction', array([[0, 1, 1, ..., 1, 2, 2]]))\n",
      "('loss', 77.070941052349013)\n",
      "('train_accuracy:', 0.99222222222222223)\n",
      "('prediction', array([[0, 1, 1, ..., 1, 2, 2]]))\n",
      "('loss', 85.04447723661373)\n",
      "('train_accuracy:', 0.99148148148148152)\n",
      "('prediction', array([[0, 1, 1, ..., 1, 2, 2]]))\n",
      "('loss', 94.880045705747918)\n",
      "('train_accuracy:', 0.99037037037037035)\n",
      "('prediction', array([[0, 1, 1, ..., 1, 2, 2]]))\n",
      "('loss', 65.878580160315806)\n",
      "('train_accuracy:', 0.99407407407407411)\n",
      "('prediction', array([[0, 1, 1, ..., 1, 2, 2]]))\n",
      "('loss', 61.166040180664496)\n",
      "('train_accuracy:', 0.99370370370370376)\n",
      "('prediction', array([[0, 1, 1, ..., 1, 2, 2]]))\n",
      "('loss', 60.394895397125339)\n",
      "('train_accuracy:', 0.99370370370370376)\n",
      "('prediction', array([[0, 1, 1, ..., 1, 2, 2]]))\n",
      "('loss', 59.825738562789475)\n",
      "('train_accuracy:', 0.99370370370370376)\n",
      "('prediction', array([[0, 1, 1, ..., 1, 2, 2]]))\n",
      "('loss', 59.181551158993685)\n",
      "('train_accuracy:', 0.99333333333333329)\n",
      "('prediction', array([[0, 1, 1, ..., 1, 2, 2]]))\n",
      "('loss', 58.632334519714604)\n",
      "('train_accuracy:', 0.99333333333333329)\n",
      "('prediction', array([[0, 1, 1, ..., 1, 2, 2]]))\n",
      "('loss', 58.176309789388824)\n",
      "('train_accuracy:', 0.99333333333333329)\n",
      "('prediction', array([[0, 1, 1, ..., 1, 2, 2]]))\n",
      "('loss', 57.789913160771803)\n",
      "('train_accuracy:', 0.99333333333333329)\n"
     ]
    }
   ],
   "source": [
    "model = NN_three_layer(inputSize=3, h1_Size=5, h2_Size=5, outputSize=3)\n",
    "\n",
    "train_iteration = 3000\n",
    "for i in range(0, train_iteration):\n",
    "    #model.train(train_data, train_target)\n",
    "    output = model.forward(train_data)\n",
    "    \n",
    "    prediction = model.predict(train_data)\n",
    "    loss = model.cross_entropy(output, train_target)\n",
    "    train_accuracy = accuracy_score(prediction, train_target)\n",
    "    \n",
    "    model.backward(train_data, output, train_target)\n",
    "    if(i % 200 == 0):\n",
    "        print('prediction', prediction.T)\n",
    "        print('loss', loss)\n",
    "        print('train_accuracy:', train_accuracy)"
   ]
  },
  {
   "cell_type": "markdown",
   "metadata": {},
   "source": [
    "# Testing"
   ]
  },
  {
   "cell_type": "code",
   "execution_count": 17,
   "metadata": {},
   "outputs": [
    {
     "name": "stdout",
     "output_type": "stream",
     "text": [
      "('test_accuracy', 0.99333333333333329)\n"
     ]
    }
   ],
   "source": [
    "output = model.forward(test_data)\n",
    "prediction = np.argmax(output, axis=1)\n",
    "test_accuracy = accuracy_score(prediction, test_target)\n",
    "print('test_accuracy', test_accuracy)"
   ]
  },
  {
   "cell_type": "markdown",
   "metadata": {},
   "source": [
    "# Decision Boundary"
   ]
  },
  {
   "cell_type": "code",
   "execution_count": 18,
   "metadata": {},
   "outputs": [
    {
     "name": "stdout",
     "output_type": "stream",
     "text": [
      "(58504, 2)\n"
     ]
    },
    {
     "data": {
      "image/png": "[encoded data removed]",
      "text/plain": [
       "<matplotlib.figure.Figure at 0x164968b0>"
      ]
     },
     "metadata": {},
     "output_type": "display_data"
    }
   ],
   "source": [
    "decision_boundary(model, train_data)"
   ]
  },
  {
   "cell_type": "markdown",
   "metadata": {},
   "source": [
    "# Part C\n",
    "### Because of my Normalization way (x = (x-mean) / std ), the results suffer gradient descent and get poor accuracy. I fixed the problem by employing another Normalization method(that rescaling to 0~1 version is in *.py files). Discussions are written in my report."
   ]
  },
  {
   "cell_type": "code",
   "execution_count": 19,
   "metadata": {},
   "outputs": [
    {
     "name": "stdout",
     "output_type": "stream",
     "text": [
      "Training...\n",
      "('prediction', array([[0, 0, 0, ..., 0, 0, 0]]))\n",
      "('loss', 5127.5795029903766)\n",
      "('train_accuracy:', 0.33703703703703702)\n",
      "('prediction', array([[0, 0, 0, ..., 0, 2, 2]]))\n",
      "('loss', 1577.336707679925)\n",
      "('train_accuracy:', 0.63703703703703707)\n",
      "('prediction', array([[0, 0, 0, ..., 0, 2, 2]]))\n",
      "('loss', 1479.3924358757051)\n",
      "('train_accuracy:', 0.63888888888888884)\n",
      "('prediction', array([[0, 0, 0, ..., 0, 2, 2]]))\n",
      "('loss', 1420.303322144581)\n",
      "('train_accuracy:', 0.64111111111111108)\n",
      "('prediction', array([[0, 0, 0, ..., 0, 2, 2]]))\n",
      "('loss', 1377.9703661718074)\n",
      "('train_accuracy:', 0.64222222222222225)\n",
      "('prediction', array([[0, 0, 0, ..., 0, 2, 2]]))\n",
      "('loss', 1345.1395232256953)\n",
      "('train_accuracy:', 0.64370370370370367)\n",
      "('prediction', array([[0, 0, 0, ..., 0, 2, 2]]))\n",
      "('loss', 1318.4591452872573)\n",
      "('train_accuracy:', 0.64444444444444449)\n",
      "('prediction', array([[0, 0, 0, ..., 0, 2, 2]]))\n",
      "('loss', 1296.3435325579428)\n",
      "('train_accuracy:', 0.64518518518518519)\n",
      "('prediction', array([[0, 0, 0, ..., 0, 2, 2]]))\n",
      "('loss', 1277.6260268396093)\n",
      "('train_accuracy:', 0.64555555555555555)\n",
      "('prediction', array([[0, 0, 0, ..., 0, 2, 2]]))\n",
      "('loss', 1261.3774603126419)\n",
      "('train_accuracy:', 0.64703703703703708)\n",
      "('prediction', array([[0, 0, 0, ..., 0, 2, 2]]))\n",
      "('loss', 1247.1060229479597)\n",
      "('train_accuracy:', 0.64851851851851849)\n",
      "('prediction', array([[0, 0, 0, ..., 0, 2, 2]]))\n",
      "('loss', 1234.4946252018326)\n",
      "('train_accuracy:', 0.64888888888888885)\n",
      "('prediction', array([[0, 0, 0, ..., 0, 2, 2]]))\n",
      "('loss', 1223.2843149865544)\n",
      "('train_accuracy:', 0.64962962962962967)\n",
      "('prediction', array([[0, 0, 0, ..., 0, 2, 2]]))\n",
      "('loss', 1213.2385800765783)\n",
      "('train_accuracy:', 0.65000000000000002)\n",
      "('prediction', array([[0, 0, 0, ..., 0, 2, 2]]))\n",
      "('loss', 1204.1205445079379)\n",
      "('train_accuracy:', 0.65037037037037038)\n",
      "\n",
      "Testing...\n",
      "('test_accuracy', 0.64666666666666661)\n",
      "(58504, 2)\n"
     ]
    },
    {
     "data": {
      "image/png": "[encoded data removed]",
      "text/plain": [
       "<matplotlib.figure.Figure at 0x15744e70>"
      ]
     },
     "metadata": {},
     "output_type": "display_data"
    }
   ],
   "source": [
    "model = NN_three_layer(inputSize=3, h1_Size=5, h2_Size=5, outputSize=3, activation='relu')\n",
    "\n",
    "train_iteration = 3000\n",
    "print 'Training...'\n",
    "for i in range(0, train_iteration):\n",
    "    #model.train(train_data, train_target)\n",
    "    output = model.forward(train_data)\n",
    "    \n",
    "    prediction = model.predict(train_data)\n",
    "    loss = model.cross_entropy(output, train_target)\n",
    "    train_accuracy = accuracy_score(prediction, train_target)\n",
    "    \n",
    "    model.backward(train_data, output, train_target)\n",
    "    if(i % 200 == 0):\n",
    "        print('prediction', prediction.T)\n",
    "        print('loss', loss)\n",
    "        print('train_accuracy:', train_accuracy)\n",
    "\n",
    "print '\\nTesting...'\n",
    "output = model.forward(test_data)\n",
    "prediction = np.argmax(output, axis=1)\n",
    "test_accuracy = accuracy_score(prediction, test_target)\n",
    "print('test_accuracy', test_accuracy)\n",
    "\n",
    "decision_boundary(model, train_data)"
   ]
  },
  {
   "cell_type": "code",
   "execution_count": null,
   "metadata": {},
   "outputs": [],
   "source": []
  }
 ],
 "metadata": {
  "kernelspec": {
   "display_name": "Python 2",
   "language": "python",
   "name": "python2"
  },
  "language_info": {
   "codemirror_mode": {
    "name": "ipython",
    "version": 2
   },
   "file_extension": ".py",
   "mimetype": "text/x-python",
   "name": "python",
   "nbconvert_exporter": "python",
   "pygments_lexer": "ipython2",
   "version": "2.7.13"
  }
 },
 "nbformat": 4,
 "nbformat_minor": 2
}
